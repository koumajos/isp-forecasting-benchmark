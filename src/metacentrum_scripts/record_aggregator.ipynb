{
 "cells": [
  {
   "cell_type": "code",
   "execution_count": null,
   "id": "2f569dac-168d-4a28-9f86-01f87c75b5f5",
   "metadata": {},
   "outputs": [],
   "source": [
    "import os\n",
    "from datetime import date"
   ]
  },
  {
   "cell_type": "code",
   "execution_count": null,
   "id": "31e9bfdb-b4a1-4299-891e-8a9f48a3d19e",
   "metadata": {},
   "outputs": [],
   "source": [
    "model = \"\"\n",
    "output_path = \"\"\n",
    "records_path = \"\""
   ]
  },
  {
   "cell_type": "code",
   "execution_count": null,
   "id": "ce25c806-ff88-4679-b686-76d50b5eb0e2",
   "metadata": {},
   "outputs": [],
   "source": [
    "for dataset_part in [\"institutions\", \"institution_subnets\", \"ip_addresses_sample\"]:\n",
    "    with open(f\"{output_path}/aggregated_{dataset_part}_{model}_{date.today()}.csv\", \"w\") as agg:\n",
    "        agg.write(\",METRICS,TRAINING_TIME,PREDICTION_TIME,PBS_JOB_ID,FILE_ID,TEST_SET_SIZE,VALID_SET_SIZE,TRAINING_WINDOW,TS_ATTRIBUTE,MODEL_NAME,GROUP,IMPUTATION,PREDICTION_WINDOW,PARAMS,TIMESTAMP\\n\")\n",
    "        for counter, record in enumerate(os.listdir(f\"{records_path}/{dataset_part}/agg_1_hour/{model}\")):\n",
    "            with open(f\"{records_path}/{dataset_part}/agg_1_hour/{model}/{record}\", \"r\") as f:\n",
    "                try:\n",
    "                    data = f.readlines()[1]\n",
    "                    agg.write(f\"{data}\")\n",
    "                except Exception as e:\n",
    "                    print(str(e)) \n",
    "                if counter % 1000 == 0:\n",
    "                    print(f\"aggregated {counter} records\")\n",
    "        \n",
    "    "
   ]
  }
 ],
 "metadata": {
  "kernelspec": {
   "display_name": "Python 3 (ipykernel)",
   "language": "python",
   "name": "python3"
  },
  "language_info": {
   "codemirror_mode": {
    "name": "ipython",
    "version": 3
   },
   "file_extension": ".py",
   "mimetype": "text/x-python",
   "name": "python",
   "nbconvert_exporter": "python",
   "pygments_lexer": "ipython3",
   "version": "3.12.0"
  }
 },
 "nbformat": 4,
 "nbformat_minor": 5
}
